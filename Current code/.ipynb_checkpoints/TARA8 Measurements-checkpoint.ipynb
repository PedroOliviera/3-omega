{
 "cells": [
  {
   "cell_type": "code",
   "execution_count": 4,
   "metadata": {},
   "outputs": [],
   "source": [
    "import lck_tools as lck\n",
    "\n",
    "from tc3omega.datareader import Data  # reads data from .csv\n",
    "from tc3omega.constants import Constants  # read sample data from .yml\n",
    "from tc3omega.analysis import Analyzer  # fits linear approx. or 2D model\n",
    "from tc3omega.logmaker import Logmaker  # creates plots and log files\n",
    "import numpy as np\n",
    "import matplotlib.pyplot as plt\n",
    "import pandas as pd\n",
    "import serial"
   ]
  },
  {
   "cell_type": "code",
   "execution_count": 7,
   "metadata": {},
   "outputs": [],
   "source": [
    "try:\n",
    "    lock = serial.Serial('COM5', baudrate=19200, parity=serial.PARITY_NONE,\n",
    "                                     stopbits=serial.STOPBITS_ONE, bytesize=serial.EIGHTBITS, timeout=3)\n",
    "except:\n",
    "    lock.close()\n",
    "    lock = serial.Serial('COM5', baudrate=19200, parity=serial.PARITY_NONE,\n",
    "                                     stopbits=serial.STOPBITS_ONE, bytesize=serial.EIGHTBITS, timeout=3)\n",
    "    \n",
    "direc = r'C:/Users/Pedro/Dropbox/1-Three Omega with Ara/new_python/3omega-lockin-Pedro/A1'\n",
    "direc = lck.create_folder('A1_Scan1-2019-08-19',direc)"
   ]
  },
  {
   "cell_type": "code",
   "execution_count": 9,
   "metadata": {},
   "outputs": [
    {
     "name": "stdout",
     "output_type": "stream",
     "text": [
      "0.25018500002626554\n",
      "make sure BNCs are set to sample\n"
     ]
    },
    {
     "ename": "NameError",
     "evalue": "name 'lock' is not defined",
     "output_type": "error",
     "traceback": [
      "\u001b[1;31m---------------------------------------------------------------------------\u001b[0m",
      "\u001b[1;31mNameError\u001b[0m                                 Traceback (most recent call last)",
      "\u001b[1;32m<ipython-input-9-af14361f6f3e>\u001b[0m in \u001b[0;36m<module>\u001b[1;34m\u001b[0m\n\u001b[1;32m----> 1\u001b[1;33m \u001b[0moutput\u001b[0m \u001b[1;33m=\u001b[0m \u001b[0mlck\u001b[0m\u001b[1;33m.\u001b[0m\u001b[0mfullScan\u001b[0m\u001b[1;33m(\u001b[0m\u001b[1;36m500\u001b[0m\u001b[1;33m,\u001b[0m\u001b[1;36m3700\u001b[0m\u001b[1;33m,\u001b[0m\u001b[1;36m9\u001b[0m\u001b[1;33m,\u001b[0m\u001b[0mscan_v_or_f\u001b[0m\u001b[1;33m=\u001b[0m\u001b[1;34m'freq'\u001b[0m\u001b[1;33m,\u001b[0m\u001b[0mstb_time\u001b[0m\u001b[1;33m=\u001b[0m\u001b[1;36m9\u001b[0m\u001b[1;33m,\u001b[0m\u001b[0maveraged_time\u001b[0m\u001b[1;33m=\u001b[0m\u001b[1;36m3\u001b[0m\u001b[1;33m,\u001b[0m\u001b[0mn_sweeps\u001b[0m\u001b[1;33m=\u001b[0m\u001b[1;36m1\u001b[0m\u001b[1;33m,\u001b[0m\u001b[0mlc_const\u001b[0m\u001b[1;33m=\u001b[0m\u001b[1;33m[\u001b[0m\u001b[1;36m3\u001b[0m\u001b[1;33m]\u001b[0m\u001b[1;33m)\u001b[0m\u001b[1;33m\u001b[0m\u001b[1;33m\u001b[0m\u001b[0m\n\u001b[0m",
      "\u001b[1;32m~\\Dropbox\\1-Three Omega with Ara\\new_python\\3omega-lockin-Pedro\\Current code\\lck_tools.py\u001b[0m in \u001b[0;36mfullScan\u001b[1;34m(start, end, num_points, scan_v_or_f, stb_time, averaged_time, n_sweeps, lc_const)\u001b[0m\n\u001b[0;32m    382\u001b[0m     \u001b[1;31m#first do v3w scan\u001b[0m\u001b[1;33m\u001b[0m\u001b[1;33m\u001b[0m\u001b[1;33m\u001b[0m\u001b[0m\n\u001b[0;32m    383\u001b[0m     \u001b[0minput\u001b[0m\u001b[1;33m(\u001b[0m\u001b[1;34m'make sure BNCs are set to sample'\u001b[0m\u001b[1;33m)\u001b[0m\u001b[1;33m\u001b[0m\u001b[1;33m\u001b[0m\u001b[0m\n\u001b[1;32m--> 384\u001b[1;33m     \u001b[0mtell_lockin\u001b[0m\u001b[1;33m(\u001b[0m\u001b[1;34m'SENS22'\u001b[0m\u001b[1;33m)\u001b[0m\u001b[1;33m\u001b[0m\u001b[1;33m\u001b[0m\u001b[0m\n\u001b[0m\u001b[0;32m    385\u001b[0m     v3w_x, v3w_y = mn_scans(lc_list,scan_v_or_f = scan_v_or_f,harm = 3, stb_time = stb_time, averaged_time = averaged_time\n\u001b[0;32m    386\u001b[0m                             , n_sweeps = n_sweeps,lc_const = lc_const) \n",
      "\u001b[1;32m~\\Dropbox\\1-Three Omega with Ara\\new_python\\3omega-lockin-Pedro\\Current code\\lck_tools.py\u001b[0m in \u001b[0;36mtell_lockin\u001b[1;34m(cmd)\u001b[0m\n\u001b[0;32m     25\u001b[0m \u001b[1;33m\u001b[0m\u001b[0m\n\u001b[0;32m     26\u001b[0m \u001b[1;32mdef\u001b[0m \u001b[0mtell_lockin\u001b[0m\u001b[1;33m(\u001b[0m\u001b[0mcmd\u001b[0m\u001b[1;33m)\u001b[0m\u001b[1;33m:\u001b[0m\u001b[1;33m\u001b[0m\u001b[1;33m\u001b[0m\u001b[0m\n\u001b[1;32m---> 27\u001b[1;33m     \u001b[0mlock\u001b[0m\u001b[1;33m.\u001b[0m\u001b[0mwrite\u001b[0m\u001b[1;33m(\u001b[0m\u001b[0mstr\u001b[0m\u001b[1;33m.\u001b[0m\u001b[0mencode\u001b[0m\u001b[1;33m(\u001b[0m\u001b[0mcmd\u001b[0m\u001b[1;33m+\u001b[0m\u001b[1;34m'\\n'\u001b[0m\u001b[1;33m)\u001b[0m\u001b[1;33m)\u001b[0m\u001b[1;33m\u001b[0m\u001b[1;33m\u001b[0m\u001b[0m\n\u001b[0m\u001b[0;32m     28\u001b[0m     \u001b[0mlock\u001b[0m\u001b[1;33m.\u001b[0m\u001b[0mflush\u001b[0m\u001b[1;33m(\u001b[0m\u001b[1;33m)\u001b[0m\u001b[1;33m\u001b[0m\u001b[1;33m\u001b[0m\u001b[0m\n\u001b[0;32m     29\u001b[0m \u001b[1;33m\u001b[0m\u001b[0m\n",
      "\u001b[1;31mNameError\u001b[0m: name 'lock' is not defined"
     ]
    }
   ],
   "source": [
    "output = lck.fullScan(500,3700,9,scan_v_or_f='freq',stb_time=9,averaged_time=3,n_sweeps=1,lc_const=[3])"
   ]
  },
  {
   "cell_type": "code",
   "execution_count": null,
   "metadata": {},
   "outputs": [],
   "source": [
    "data4ara = output[0]\n",
    "data4ped = [output[i] for i in range(1,len(output))]\n",
    "lck.csv_writer('A1-SiOx-24',data4ara,title4ara,direc=direc)\n",
    "lck.csv_writer('A1-SiOx-24_analysis',data4ped,title4ped,direc=direc)"
   ]
  }
 ],
 "metadata": {
  "kernelspec": {
   "display_name": "Python 3",
   "language": "python",
   "name": "python3"
  },
  "language_info": {
   "codemirror_mode": {
    "name": "ipython",
    "version": 3
   },
   "file_extension": ".py",
   "mimetype": "text/x-python",
   "name": "python",
   "nbconvert_exporter": "python",
   "pygments_lexer": "ipython3",
   "version": "3.7.3"
  }
 },
 "nbformat": 4,
 "nbformat_minor": 2
}
